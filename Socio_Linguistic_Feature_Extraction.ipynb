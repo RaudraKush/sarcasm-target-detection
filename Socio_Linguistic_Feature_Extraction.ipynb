{
 "cells": [
  {
   "cell_type": "code",
   "execution_count": 1,
   "metadata": {},
   "outputs": [],
   "source": [
    "# This script extracts socio-linguistic features such as Part-of-Speech (POS), Name-Entity-Recognition (NER), Empath and LIWC\n",
    "# Extracted features are dumbed into a pickle file 'Data_Aug.pkl'\n",
    "\n",
    "import pickle\n",
    "import pandas as pd\n",
    "import numpy as np\n",
    "from nltk.tag import StanfordPOSTagger\n",
    "from nltk.tag import StanfordNERTagger\n",
    "from sklearn.preprocessing import OneHotEncoder\n",
    "from sklearn.preprocessing import LabelEncoder\n",
    "from nltk import word_tokenize\n",
    "from empath import Empath"
   ]
  },
  {
   "cell_type": "code",
   "execution_count": 2,
   "metadata": {},
   "outputs": [],
   "source": [
    "colnames=['Snippet', 'Target'] \n",
    "df = pd.read_csv('dataset.csv', names = colnames, header = None)\n",
    "ppd=pd.read_csv('pre_processed_dataset.csv', encoding = 'cp1252')"
   ]
  },
  {
   "cell_type": "code",
   "execution_count": 3,
   "metadata": {},
   "outputs": [],
   "source": [
    "ohe=OneHotEncoder()\n",
    "lb=LabelEncoder()"
   ]
  },
  {
   "cell_type": "code",
   "execution_count": 4,
   "metadata": {},
   "outputs": [],
   "source": [
    "# Using Stanford NER Tagger API\n",
    "jar_n = 'stanford-ner-4.2.0/stanford-ner-2020-11-17/stanford-ner-4.2.0.jar'\n",
    "model_n = 'stanford-ner-4.2.0/stanford-ner-2020-11-17/classifiers/english.all.3class.distsim.crf.ser.gz'\n",
    "ner_tagger = StanfordNERTagger(model_n, jar_n, encoding='utf8')"
   ]
  },
  {
   "cell_type": "code",
   "execution_count": 5,
   "metadata": {},
   "outputs": [],
   "source": [
    "# Using Stanford POS Tagger API\n",
    "jar = 'stanford-tagger-4.2.0/stanford-postagger-full-2020-11-17/stanford-postagger-4.2.0.jar'\n",
    "model = 'stanford-tagger-4.2.0/stanford-postagger-full-2020-11-17/models/english-left3words-distsim.tagger'\n",
    "pos_tagger = StanfordPOSTagger(model, jar, encoding='utf8')"
   ]
  },
  {
   "cell_type": "code",
   "execution_count": 6,
   "metadata": {},
   "outputs": [],
   "source": [
    "# Extracting POS Features\n",
    "POS_snippets=[]\n",
    "for i in range(len(df['Snippet'])):\n",
    "    POS_snippets.extend(pos_tagger.tag(word_tokenize(df['Snippet'][i])))\n",
    "POS_snippets_type=[x[1] for x in POS_snippets]\n",
    "POS_snippets_type=lb.fit_transform(POS_snippets_type)\n",
    "pos_vec=ohe.fit_transform(np.reshape(POS_snippets_type,(-1, 1)))\n",
    "pos_vec=pos_vec.todense()"
   ]
  },
  {
   "cell_type": "code",
   "execution_count": 7,
   "metadata": {},
   "outputs": [],
   "source": [
    "# Extracting NER Features\n",
    "ner_snippets=[]\n",
    "for i in range(len(df['Snippet'])):\n",
    "    ner_snippets.extend(ner_tagger.tag(word_tokenize(df['Snippet'][i])))\n",
    "ner_snippets_type=[x[1] for x in ner_snippets]\n",
    "ner_snippets_type=lb.fit_transform(ner_snippets_type)\n",
    "ner_vec=ohe.fit_transform(np.reshape(ner_snippets_type,(-1, 1)))\n",
    "ner_vec=ner_vec.todense()"
   ]
  },
  {
   "cell_type": "code",
   "execution_count": 8,
   "metadata": {},
   "outputs": [],
   "source": [
    "# Extracting Empath Features\n",
    "lexicon = Empath()\n",
    "empath_vec=[]\n",
    "for text in ppd['Candidate_words']:\n",
    "    a=lexicon.analyze(text, normalize=True)\n",
    "    bv=[]\n",
    "    for i in a.values():\n",
    "        bv.append(i)\n",
    "    empath_vec.append(bv)"
   ]
  },
  {
   "cell_type": "code",
   "execution_count": 9,
   "metadata": {},
   "outputs": [],
   "source": [
    "# Dumping extracted features in a pickle file \n",
    "f = open(b\"Data_aug.pkl\",\"wb\")\n",
    "pickle.dump(zip(pos_vec, ner_vec, empath_vec),f,protocol = 2)"
   ]
  }
 ],
 "metadata": {
  "kernelspec": {
   "display_name": "Python 3",
   "language": "python",
   "name": "python3"
  },
  "language_info": {
   "codemirror_mode": {
    "name": "ipython",
    "version": 3
   },
   "file_extension": ".py",
   "mimetype": "text/x-python",
   "name": "python",
   "nbconvert_exporter": "python",
   "pygments_lexer": "ipython3",
   "version": "3.8.5"
  }
 },
 "nbformat": 4,
 "nbformat_minor": 4
}
